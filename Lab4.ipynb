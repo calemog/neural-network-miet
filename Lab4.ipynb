{
  "nbformat": 4,
  "nbformat_minor": 0,
  "metadata": {
    "kernelspec": {
      "display_name": "Python 3",
      "language": "python",
      "name": "python3"
    },
    "language_info": {
      "codemirror_mode": {
        "name": "ipython",
        "version": 3
      },
      "file_extension": ".py",
      "mimetype": "text/x-python",
      "name": "python",
      "nbconvert_exporter": "python",
      "pygments_lexer": "ipython3",
      "version": "3.6.5"
    },
    "colab": {
      "name": "Lab4.ipynb",
      "provenance": [],
      "include_colab_link": false
    }
  },
  "cells": [
    {
      "cell_type": "markdown",
      "metadata": {
        "id": "view-in-github",
        "colab_type": "text"
      },
      "source": [
      ]
    },
    {
      "cell_type": "code",
      "metadata": {
        "id": "dhYL7eTYpArM"
      },
      "source": [
        "import pandas as pd\n",
        "import numpy as np\n",
        "import matplotlib.pyplot as plt\n",
        "from sklearn import neural_network as nn\n",
        "from sklearn.metrics import confusion_matrix, accuracy_score\n",
        "%matplotlib inline"
      ],
      "execution_count": 1,
      "outputs": []
    },
    {
      "cell_type": "code",
      "metadata": {
        "id": "kdK4JIQ8pAt3"
      },
      "source": [
        "rus_letters = pd.read_csv(\"/content/русский_пиксельный_алфавит.csv\")"
      ],
      "execution_count": 2,
      "outputs": []
    },
    {
      "cell_type": "code",
      "metadata": {
        "id": "QhKTcT3ypAt5"
      },
      "source": [
        "rus_vovels = rus_letters[rus_letters.value.isin(['А','Е','И','О','У','Ы','Э','Ю','Я'])].drop(\"value\", axis = 1)"
      ],
      "execution_count": 3,
      "outputs": []
    },
    {
      "cell_type": "code",
      "metadata": {
        "id": "GsVsaGcppAuN"
      },
      "source": [
        "vals = rus_letters[\"value\"]\n",
        "rus_letters = rus_letters.drop(\"value\", axis = 1)"
      ],
      "execution_count": 4,
      "outputs": []
    },
    {
      "cell_type": "code",
      "metadata": {
        "scrolled": false,
        "id": "QIu-7jg-pAuT"
      },
      "source": [
        "def plotchar(i):\n",
        "    (plt.imshow(i.reshape(7, 5)))"
      ],
      "execution_count": 5,
      "outputs": []
    },
    {
      "cell_type": "code",
      "metadata": {
        "colab": {
          "base_uri": "https://localhost:8080/",
          "height": 265
        },
        "id": "B6E-sjnIpAuf",
        "outputId": "14dbc79a-6c60-464f-acba-f0bb5163480e"
      },
      "source": [
        "plotchar(rus_vovels.values[2])"
      ],
      "execution_count": 6,
      "outputs": [
        {
          "output_type": "display_data",
          "data": {
            "image/png": "[encoded data removed]",
            "text/plain": [
              "<Figure size 432x288 with 1 Axes>"
            ]
          },
          "metadata": {
            "tags": [],
            "needs_background": "light"
          }
        }
      ]
    },
    {
      "cell_type": "code",
      "metadata": {
        "colab": {
          "base_uri": "https://localhost:8080/"
        },
        "id": "3aLZNVMdpAu5",
        "outputId": "db66f8a4-db8c-43fe-9ff7-e0d2b5247209"
      },
      "source": [
        "train = rus_letters.values\n",
        "target = np.eye(32)\n",
        "clf = nn.MLPClassifier(hidden_layer_sizes=(10,),\n",
        "                    activation='logistic',\n",
        "                    max_iter=500000,\n",
        "                    alpha=1e-4,\n",
        "                    solver='sgd',\n",
        "                    tol=1e-2,\n",
        "                    random_state=1,\n",
        "                    learning_rate_init=.1,\n",
        "                    n_iter_no_change=10000)\n",
        "clf.fit(train, target)"
      ],
      "execution_count": 7,
      "outputs": [
        {
          "output_type": "execute_result",
          "data": {
            "text/plain": [
              "MLPClassifier(activation='logistic', alpha=0.0001, batch_size='auto',\n",
              "              beta_1=0.9, beta_2=0.999, early_stopping=False, epsilon=1e-08,\n",
              "              hidden_layer_sizes=(10,), learning_rate='constant',\n",
              "              learning_rate_init=0.1, max_fun=15000, max_iter=500000,\n",
              "              momentum=0.9, n_iter_no_change=10000, nesterovs_momentum=True,\n",
              "              power_t=0.5, random_state=1, shuffle=True, solver='sgd', tol=0.01,\n",
              "              validation_fraction=0.1, verbose=False, warm_start=False)"
            ]
          },
          "metadata": {
            "tags": []
          },
          "execution_count": 7
        }
      ]
    },
    {
      "cell_type": "code",
      "metadata": {
        "colab": {
          "base_uri": "https://localhost:8080/"
        },
        "id": "FOE6A2XDpAu7",
        "outputId": "9ade8ed3-ef4b-429e-9ad4-7da58bbcf8e2"
      },
      "source": [
        "clf.predict(train)"
      ],
      "execution_count": 8,
      "outputs": [
        {
          "output_type": "execute_result",
          "data": {
            "text/plain": [
              "array([[1, 0, 0, ..., 0, 0, 0],\n",
              "       [0, 1, 0, ..., 0, 0, 0],\n",
              "       [0, 0, 1, ..., 0, 0, 0],\n",
              "       ...,\n",
              "       [0, 0, 0, ..., 1, 0, 0],\n",
              "       [0, 0, 0, ..., 0, 1, 0],\n",
              "       [0, 0, 0, ..., 0, 0, 1]])"
            ]
          },
          "metadata": {
            "tags": []
          },
          "execution_count": 8
        }
      ]
    },
    {
      "cell_type": "code",
      "metadata": {
        "scrolled": true,
        "colab": {
          "base_uri": "https://localhost:8080/",
          "height": 265
        },
        "id": "9SNamskspAvD",
        "outputId": "1517b3f5-ddec-4e54-dcff-b480deb1159f"
      },
      "source": [
        "err = 0.2 # prevous 0.3\n",
        "noise_train = train+np.random.normal(0, err, train.shape)\n",
        "plotchar(noise_train[5,:])"
      ],
      "execution_count": 9,
      "outputs": [
        {
          "output_type": "display_data",
          "data": {
            "image/png": "[encoded data removed]",
            "text/plain": [
              "<Figure size 432x288 with 1 Axes>"
            ]
          },
          "metadata": {
            "tags": [],
            "needs_background": "light"
          }
        }
      ]
    },
    {
      "cell_type": "code",
      "metadata": {
        "id": "cJEjEe0WpAvF"
      },
      "source": [
        "def max_err(nn, train, err):\n",
        "    c = np.zeros((32,32))\n",
        "    for i in range(1000):\n",
        "        c += confusion_matrix(target.argmax(axis=1), nn.predict(train + np.random.normal(0, err, train.shape)).argmax(axis=1))\n",
        "    return 1-np.min(np.diag(c))/1000.0"
      ],
      "execution_count": 10,
      "outputs": []
    },
    {
      "cell_type": "code",
      "metadata": {
        "id": "OmTRJa0SpAvH"
      },
      "source": [
        "#np.savetxt('answer.csv', c, delimiter=',', fmt='%d')"
      ],
      "execution_count": null,
      "outputs": []
    },
    {
      "cell_type": "code",
      "metadata": {
        "colab": {
          "base_uri": "https://localhost:8080/"
        },
        "id": "wRibzKB8pAvR",
        "outputId": "a1981ecd-2ee2-457c-ec1a-cb1e7e8df8f7"
      },
      "source": [
        "clf3 = nn.MLPClassifier(hidden_layer_sizes=(20,20),\n",
        "                    activation='logistic',\n",
        "                    max_iter=500000,\n",
        "                    alpha=1e-4,\n",
        "                    solver='sgd',\n",
        "                    tol=1e-2,\n",
        "                    random_state=1,\n",
        "                    learning_rate_init=.1,\n",
        "                    n_iter_no_change=10000)\n",
        "clf3.fit(train, target)"
      ],
      "execution_count": 12,
      "outputs": [
        {
          "output_type": "execute_result",
          "data": {
            "text/plain": [
              "MLPClassifier(activation='logistic', alpha=0.0001, batch_size='auto',\n",
              "              beta_1=0.9, beta_2=0.999, early_stopping=False, epsilon=1e-08,\n",
              "              hidden_layer_sizes=(20, 20), learning_rate='constant',\n",
              "              learning_rate_init=0.1, max_fun=15000, max_iter=500000,\n",
              "              momentum=0.9, n_iter_no_change=10000, nesterovs_momentum=True,\n",
              "              power_t=0.5, random_state=1, shuffle=True, solver='sgd', tol=0.01,\n",
              "              validation_fraction=0.1, verbose=False, warm_start=False)"
            ]
          },
          "metadata": {
            "tags": []
          },
          "execution_count": 12
        }
      ]
    },
    {
      "cell_type": "code",
      "metadata": {
        "scrolled": true,
        "colab": {
          "base_uri": "https://localhost:8080/"
        },
        "id": "crHAwdTDpAvS",
        "outputId": "2c17cdd5-16b1-4df4-b987-d81ff79598d6"
      },
      "source": [
        "clf3.predict(train+ np.random.normal(0, err, train.shape))"
      ],
      "execution_count": 13,
      "outputs": [
        {
          "output_type": "execute_result",
          "data": {
            "text/plain": [
              "array([[1, 0, 0, ..., 0, 0, 0],\n",
              "       [0, 1, 0, ..., 0, 0, 0],\n",
              "       [0, 0, 1, ..., 0, 0, 0],\n",
              "       ...,\n",
              "       [0, 0, 0, ..., 1, 0, 0],\n",
              "       [0, 0, 0, ..., 0, 1, 0],\n",
              "       [0, 0, 0, ..., 0, 0, 1]])"
            ]
          },
          "metadata": {
            "tags": []
          },
          "execution_count": 13
        }
      ]
    },
    {
      "cell_type": "code",
      "metadata": {
        "id": "6ATk9vAnpAva"
      },
      "source": [
        "c1 = np.zeros((32,32))\n",
        "ar1 = 0"
      ],
      "execution_count": 14,
      "outputs": []
    },
    {
      "cell_type": "code",
      "metadata": {
        "id": "2CG1t1FHpAve"
      },
      "source": [
        "for i in range(100):\n",
        "    c1 += confusion_matrix(target.argmax(axis=1), clf3.predict(train + np.random.normal(0, err, train.shape)).argmax(axis=1))\n",
        "ar1+=100\n",
        "c1 /= ar1"
      ],
      "execution_count": 15,
      "outputs": []
    },
    {
      "cell_type": "code",
      "metadata": {
        "id": "L1o665_1pAvf"
      },
      "source": [
        "np.savetxt('answer1.csv', c1, delimiter=',', fmt='%f')"
      ],
      "execution_count": null,
      "outputs": []
    },
    {
      "cell_type": "code",
      "metadata": {
        "id": "vmES9AjopAvg"
      },
      "source": [
        "clf1err = []\n",
        "clf2err = []\n",
        "terr = np.arange(0,0.5,0.05)\n",
        "for i in terr:\n",
        "    clf1err.append(max_err(clf, train, i))\n",
        "    clf2err.append(max_err(clf3, train, i))    "
      ],
      "execution_count": 16,
      "outputs": []
    },
    {
      "cell_type": "code",
      "metadata": {
        "colab": {
          "base_uri": "https://localhost:8080/",
          "height": 279
        },
        "id": "zW5rgKeopAvh",
        "outputId": "d730ba10-30b4-4962-ff77-8390210d8f5e"
      },
      "source": [
        "plt.plot(terr, clf1err)\n",
        "plt.plot(terr, clf2err)\n",
        "plt.grid()\n",
        "plt.xlabel('Уровень шума 20%')\n",
        "plt.ylabel('Ошибка')\n",
        "plt.legend(['Двухслойный персептрон','Трехслойный персептрон'])\n",
        "plt.show()"
      ],
      "execution_count": 17,
      "outputs": [
        {
          "output_type": "display_data",
          "data": {
            "image/png": "[encoded data removed]",
            "text/plain": [
              "<Figure size 432x288 with 1 Axes>"
            ]
          },
          "metadata": {
            "tags": [],
            "needs_background": "light"
          }
        }
      ]
    }
  ]
}
